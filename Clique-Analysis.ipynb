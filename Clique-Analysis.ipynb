{
 "cells": [
  {
   "cell_type": "code",
   "execution_count": null,
   "metadata": {},
   "outputs": [],
   "source": [
    "import networkx as nx\n",
    "import matplotlib.pyplot as plt\n",
    "import sys\n",
    "sys.path.append(\"libraries\")\n",
    "import evalfuns as ef\n",
    "import numpy as np\n",
    "import pandas as pd\n",
    "import numpysimfunsNONuniform as sf\n",
    "import distcomputing as dists\n",
    "import pickle\n"
   ]
  },
  {
   "cell_type": "code",
   "execution_count": null,
   "metadata": {},
   "outputs": [],
   "source": [
    "num_alts = 4\n",
    "measures = list([f\"KS{num_alts}\", \"fDP{num_alts}\", \"fCS{num_alts}\"])\n",
    "dMatDict = dists.genDistMatrices(4)\n",
    "num2pyrank = dict(zip(range(13), dMatDict[f\"KS{num_alts}\"].columns))"
   ]
  },
  {
   "cell_type": "code",
   "execution_count": null,
   "metadata": {
    "scrolled": false
   },
   "outputs": [],
   "source": [
    "for dMat in dMatDict:\n",
    "    istruelist = []\n",
    "    for reliability in range(51,100,2):\n",
    "        R = dists.weakRankings(numAlts)\n",
    "\n",
    "        intSpace = np.arange(R.shape[0])\n",
    "        markerDict = dict(zip([\"KS\",\"DP\",\"CS\"],[\"s\",\"D\",\"v\"]))\n",
    "        colorDict=dict(zip([\"KS\",\"DP\",\"CS\"], [\"#C55B\", \"#55CB\",\"#EC7B\"]))\n",
    "        if reliability != 51: oldCliqueDist = maxCliqueDist\n",
    "        else: oldCliqueDist = None\n",
    "        maxCliqueDist = min([int(1/(2*(1-reliability/100))), 6])\n",
    "\n",
    "        if oldCliqueDist != maxCliqueDist:\n",
    "            Cliquelist = []\n",
    "            G=nx.Graph()\n",
    "            plt.figure(figsize=(18,18))\n",
    "            EDGES = []\n",
    "            for w in range(1,maxCliqueDist+1):\n",
    "                D2 = (dMatDict[f\"{dMat}\"] == w).values\n",
    "                edges= set()\n",
    "                for i in zip(R[(intSpace.reshape(1,-1) * D2).reshape(-1)], R[(intSpace.reshape(-1,1) * D2).reshape(-1)]):\n",
    "                    try: \n",
    "                        if nx.shortest_path_length(G, *i, weight=\"weight\")>=w: \n",
    "                            if frozenset(i) not in edges: \n",
    "                                G.add_edges_from([i], weight=w)\n",
    "                                edges.add(frozenset(i))\n",
    "                    except (nx.NodeNotFound, nx.NetworkXNoPath):  \n",
    "                        if frozenset(i) not in edges: \n",
    "                            edges.add(frozenset(i))\n",
    "                            G.add_edges_from([i], weight=w)\n",
    "                edges = [tuple(i) for i in edges if len(i)==2]\n",
    "                EDGES.append(edges)\n",
    "            isolatedNodes = tuple(nx.isolates(G))\n",
    "            G.remove_nodes_from(isolatedNodes)\n",
    "            for w,edges in enumerate(EDGES):\n",
    "                edges = tuple(i for i in edges if not i[0] in isolatedNodes and not i[1] in isolatedNodes)\n",
    "                pos = nx.kamada_kawai_layout(G)\n",
    "                nx.draw_networkx_edges(G, pos, edgelist=edges, alpha=.5, width = 10//(1+w))\n",
    "            nx.draw_networkx_nodes(G, pos, node_size=1000, node_color=colorDict[dMat[:-1]][:-1])\n",
    "            nx.draw_networkx_labels(G,pos, text_size=8)\n",
    "            print()\n",
    "            plt.show()\n",
    "            Cliques = list(nx.find_cliques(G))\n",
    "            Cliquelist = [set(i) for i in Cliques]\n",
    "            #plt.savefig(\"Figures/\"+ f\"{dMat}{numAlts} Graph\", bbox_inches='tight')\n",
    "            print(f\"{dMat} has the maximum clique-size of\",max([len(i) for i in Cliques]), f\"when clique-distances of up to {maxCliqueDist} are tolerated.\")\n",
    "            print(f\"That means at most {max([len(i) for i in nx.find_cliques(G)])} clusters for bias lower than {1-1/(2*maxCliqueDist)}\")\n",
    "    print(istruelist)"
   ]
  }
 ],
 "metadata": {
  "kernelspec": {
   "display_name": "Python 3",
   "language": "python",
   "name": "python3"
  },
  "language_info": {
   "codemirror_mode": {
    "name": "ipython",
    "version": 3
   },
   "file_extension": ".py",
   "mimetype": "text/x-python",
   "name": "python",
   "nbconvert_exporter": "python",
   "pygments_lexer": "ipython3",
   "version": "3.8.3"
  }
 },
 "nbformat": 4,
 "nbformat_minor": 4
}
