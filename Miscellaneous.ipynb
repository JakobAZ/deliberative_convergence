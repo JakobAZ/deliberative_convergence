{
 "cells": [
  {
   "cell_type": "code",
   "execution_count": 1,
   "metadata": {},
   "outputs": [],
   "source": [
    "import networkx as nx\n",
    "import matplotlib.pyplot as plt\n",
    "import sys\n",
    "sys.path.append(\"libraries\")\n",
    "import evalfuns as ef\n",
    "import numpy as np\n",
    "import pandas as pd\n",
    "import numpysimfunsNONuniform as sf\n",
    "import distcomputing as dists\n",
    "import pickle\n",
    "import os"
   ]
  },
  {
   "cell_type": "code",
   "execution_count": 2,
   "metadata": {},
   "outputs": [
    {
     "name": "stdout",
     "output_type": "stream",
     "text": [
      "Computing KS3 took 0.0 seconds!\n",
      "Computing DP3 took 0.01 seconds!\n",
      "Computing CS3 took 0.01 seconds!\n",
      "Computing KS4 took 0.01 seconds!\n",
      "Computing DP4 took 0.04 seconds!\n",
      "Computing CS4 took 0.01 seconds!\n",
      "Computing KS5 took 0.08 seconds!\n",
      "Computing DP5 took 1.9 seconds!\n",
      "Computing CS5 took 0.05 seconds!\n",
      "Computing KS6 took 4.81 seconds!\n",
      "Computing DP6 took 150.51 seconds!\n",
      "Computing CS6 took 1.6 seconds!\n"
     ]
    }
   ],
   "source": [
    "num_alts = (3,7)\n",
    "ML = [(i,dists.genDistMatrices(i)[f\"KS{i}\"]) for i in range(*num_alts)]"
   ]
  },
  {
   "cell_type": "code",
   "execution_count": 13,
   "metadata": {},
   "outputs": [
    {
     "data": {
      "image/png": "[encoded data removed]",
      "text/plain": [
       "<Figure size 432x288 with 1 Axes>"
      ]
     },
     "metadata": {
      "needs_background": "light"
     },
     "output_type": "display_data"
    },
    {
     "name": "stdout",
     "output_type": "stream",
     "text": [
      "[0.9230769230769231, 0.9333333333333333, 0.8964879852125693, 0.8500960922485586]\n"
     ]
    }
   ],
   "source": [
    "# Calculate the ratio of single-plateaued opinions of all opinions as a function of the number of alternatives. \n",
    "y=[]\n",
    "for numAlts, dMat in ML:\n",
    "    numOps = dMat.shape[0]\n",
    "    intMat = np.arange(numOps).reshape((numOps), 1)\n",
    "    current = ef.singlePeakCounter(ef.genOpMat(intMat, dMat ), mode='p').mean()\n",
    "    y.append(current)\n",
    "\n",
    "\n",
    "plt.plot(range(*num_alts), y,\"bs-\")\n",
    "plt.show()\n",
    "print(y)"
   ]
  },
  {
   "cell_type": "code",
   "execution_count": 14,
   "metadata": {},
   "outputs": [
    {
     "data": {
      "text/plain": [
       "[92.3, 93.3, 89.6, 85.0]"
      ]
     },
     "execution_count": 14,
     "metadata": {},
     "output_type": "execute_result"
    }
   ],
   "source": [
    "[round(i*100, 1) for i in y]"
   ]
  },
  {
   "cell_type": "code",
   "execution_count": null,
   "metadata": {},
   "outputs": [],
   "source": []
  }
 ],
 "metadata": {
  "kernelspec": {
   "display_name": "Python 3",
   "language": "python",
   "name": "python3"
  },
  "language_info": {
   "codemirror_mode": {
    "name": "ipython",
    "version": 3
   },
   "file_extension": ".py",
   "mimetype": "text/x-python",
   "name": "python",
   "nbconvert_exporter": "python",
   "pygments_lexer": "ipython3",
   "version": "3.8.3"
  }
 },
 "nbformat": 4,
 "nbformat_minor": 4
}
